{
 "cells": [
  {
   "cell_type": "markdown",
   "metadata": {},
   "source": [
    "# Motion Coherence Experiment Analysis Flow"
   ]
  },
  {
   "cell_type": "markdown",
   "metadata": {},
   "source": [
    "## Glossary of Variable Names:\n",
    "* moz/MOz = Mert Özkan\n",
    "* mc: motion coherence\n",
    "* f: file\n",
    "* dat: data\n",
    "* l: line\n",
    "* idx: index\n",
    "* ptr: pointer\n",
    "* trl: trial\n",
    "* no: number (rank)\n",
    "* dxn: direction\n",
    "* coh: coherence\n",
    "* ok: correct\n",
    "* is: prefix such as isOK = is it correct?\n",
    "* rt: reaction time\n",
    "* t: time\n",
    "* st: string\n",
    "* i: integer\n",
    "* stc: sentence\n",
    "* w: word\n",
    "* inv: inventory\n",
    "* cond: condition\n",
    "* sq: order/sequence\n",
    "* sxn: session\n",
    "* rej: rejected\n",
    "* sub: subject/participant\n",
    "* w: with\n",
    "* wh: *prefix* which/what\n",
    "* prev: previous\n",
    "* pc: percent/percentage\n",
    "* dr: directory"
   ]
  },
  {
   "cell_type": "markdown",
   "metadata": {},
   "source": [
    "## Synchronising Psychophysical and EEG Trials\n",
    "\n",
    "* Discard the trials in the psychophysical data which were removed in the artefact rejection.\n",
    "    * There are two-fold steps of artefact rejection implemented in the Brainvision Analyzer. So, \n",
    "* Remove invalid trials and keep them logged to discard from EEG data:\n",
    "    * 1s > RT(from onset) > .1\n",
    "    * Invalid key press\n",
    "* Mark correct and wrong trials"
   ]
  },
  {
   "cell_type": "markdown",
   "metadata": {},
   "source": [
    "### Import Data from Log Files"
   ]
  },
  {
   "cell_type": "code",
   "execution_count": 2,
   "metadata": {},
   "outputs": [],
   "source": [
    "def import_psyphys_mc(f_name,path):\n",
    "    '''\n",
    "    Feb 22, 2019\n",
    "    Mert Ozkan\n",
    "    Dartmouth College\n",
    "    Motion Coherence\n",
    "    \n",
    "    Imports datasets from log files for the Motion Coherence experiment.\n",
    "    Usage: trl_no, dxn, coh, isOK, key, rt = import_psyphys_mc(f_name,path)\n",
    "    '''\n",
    "    \n",
    "    import numpy as np\n",
    "    \n",
    "    dat_path = '/'.join([path,f_name])\n",
    "    f = open(dat_path,'r')\n",
    "    \n",
    "    # Data log starts 2 lines after the data pointer\n",
    "    dat_ptr = '%%%%%%%%%%%%%%%%%%%%%%%%%%%%%%%%%%%%%%%%%%%%%%%%'\n",
    "    read_l = f.readlines()\n",
    "    for idx in range(len(read_l)):\n",
    "        if dat_ptr in read_l[idx]:\n",
    "            dat_start_idx = idx + 2\n",
    "            break\n",
    "    trl_no = []\n",
    "    dxn = []\n",
    "    coh = []\n",
    "    isOK = []\n",
    "    key = []\n",
    "    rt = [] \n",
    "    for trl in read_l[dat_start_idx:]:\n",
    "        trl_dat = trl.split()\n",
    "        trl_no.append(int(trl_dat[0]))\n",
    "        dxn.append(int(trl_dat[1]))\n",
    "        coh.append(float(trl_dat[2]))\n",
    "        isOK.append(int(trl_dat[3]))\n",
    "        key.append(trl_dat[4])\n",
    "        rt.append(float(trl_dat[5]))\n",
    "    \n",
    "    trl_no = np.array(trl_no)\n",
    "    dxn = np.array(dxn)\n",
    "    coh = np.array(coh)\n",
    "    isOK = np.array(isOK)\n",
    "    key = np.array(key)\n",
    "    rt = np.array(rt)\n",
    "    return trl_no, dxn, coh, isOK, key, rt"
   ]
  },
  {
   "cell_type": "markdown",
   "metadata": {},
   "source": [
    "### Import Subject Data inventory"
   ]
  },
  {
   "cell_type": "code",
   "execution_count": 13,
   "metadata": {},
   "outputs": [],
   "source": [
    "def import_subjectdatainfo_mc(path):\n",
    "    '''\n",
    "    Feb 22, 2019\n",
    "    Mert Ozkan\n",
    "    Dartmouth College\n",
    "    Motion Coherence\n",
    "    \n",
    "    Import subject data inventory from data_inventory_mc.txt\n",
    "    Usage: sub_no, sub_name, sq, bhv_ptr, eeg_ptr, trl_rej_1, trl_rej_2 = import_subjectdatainfo_mc(path)\n",
    "    '''\n",
    "    \n",
    "    import numpy as np\n",
    "    \n",
    "    f = open(path,'r')\n",
    "    read_l = f.readlines()\n",
    "    \n",
    "    sub_no = []\n",
    "    sub_name = []\n",
    "    sq = []\n",
    "    bhv_ptr = []\n",
    "    eeg_ptr = []\n",
    "    trl_rej_1 = []\n",
    "    trl_rej_2 = []\n",
    "    for idx in range(len(read_l)):\n",
    "        if '*' in read_l[idx]:\n",
    "            inv_st = read_l[idx+1].split('; ')\n",
    "            sub_no.append(int(inv_st[0]))\n",
    "            sub_name.append(inv_st[1])\n",
    "            sq.append(\n",
    "                    np.array(inv_st[2].split(', ')).astype(int))\n",
    "            bhv_ptr.append(inv_st[3])\n",
    "            eeg_ptr.append(inv_st[4])\n",
    "            trl_rej_1.append(\n",
    "                    np.array(inv_st[5].split(', ')).astype(int))\n",
    "            if inv_st[6][-1:] == '\\n':\n",
    "                inv_st[6] = inv_st[6][:-1]\n",
    "            if inv_st[6] != '':\n",
    "                trl_rej_2.append(\n",
    "                    np.array(inv_st[6].split(', ')).astype(int))\n",
    "            else:\n",
    "                trl_rej_2.append(\n",
    "                    np.array([]).astype(int))\n",
    "    return sub_no, sub_name, sq, bhv_ptr, eeg_ptr, trl_rej_1, trl_rej_2"
   ]
  },
  {
   "cell_type": "markdown",
   "metadata": {},
   "source": [
    "## Find the unique file name in a path, given two keywords\n",
    "*improve this by inputting as many keywords as possible and listing all the candidate files*"
   ]
  },
  {
   "cell_type": "code",
   "execution_count": 10,
   "metadata": {},
   "outputs": [],
   "source": [
    "def findfilenameindirectory_mc(path, namecontains, end_w):\n",
    "    import os\n",
    "    contents = os.listdir(path)\n",
    "    for i in contents:\n",
    "        if namecontains in i and end_w in i:\n",
    "            f_name = i\n",
    "            break\n",
    "    return f_name"
   ]
  },
  {
   "cell_type": "markdown",
   "metadata": {},
   "source": [
    "## Combine the 3  behavioural data files in the order the experiment was conducted.\n",
    "*the experiment included 3 successive sessions for 3 conditions but the eeg recording was continuous*"
   ]
  },
  {
   "cell_type": "code",
   "execution_count": 25,
   "metadata": {},
   "outputs": [],
   "source": [
    "def combineconditions_mc(whSub, sq, path):\n",
    "    import numpy as np\n",
    "    import os\n",
    "    \n",
    "    conds = np.array(['translational.log', 'rotational.log', 'radial.log'])\n",
    "    conds = conds[sq]\n",
    "    \n",
    "    prev_sxn_trl_no = 0\n",
    "    prev_trl_no = np.array([])\n",
    "    prev_dxn = np.array([])\n",
    "    prev_coh = np.array([])\n",
    "    prev_isOK = np.array([])\n",
    "    prev_key = np.array([])\n",
    "    prev_rt = np.array([])\n",
    "    \n",
    "    for cond in conds:\n",
    "        f_name = findfilenameindirectory_mc(path, whSub, cond)\n",
    "        trl_no, dxn, coh, isOK, key, rt = import_psyphys_mc(f_name,path)\n",
    "        \n",
    "        trl_no += prev_sxn_trl_no\n",
    "        prev_sxn_trl_no = trl_no[-1]\n",
    "        \n",
    "        prev_trl_no = np.concatenate((prev_trl_no,trl_no), axis=None)\n",
    "        prev_dxn = np.concatenate((prev_dxn,dxn), axis=None)\n",
    "        prev_coh = np.concatenate((prev_coh,coh), axis=None)\n",
    "        prev_isOK = np.concatenate((prev_isOK,isOK), axis=None)\n",
    "        prev_key = np.concatenate((prev_key,key), axis=None)\n",
    "        prev_rt = np.concatenate((prev_rt,rt), axis=None)\n",
    "        \n",
    "    return prev_trl_no, prev_dxn, prev_coh, prev_isOK, prev_key, prev_rt"
   ]
  },
  {
   "cell_type": "markdown",
   "metadata": {},
   "source": [
    "## Synchronise Data Files"
   ]
  },
  {
   "cell_type": "code",
   "execution_count": 129,
   "metadata": {},
   "outputs": [],
   "source": [
    "import numpy as np\n",
    "import os\n",
    "\n",
    "sub_no, sub_name, sq, bhv_ptr, eeg_ptr, trl_rej_1, trl_rej_2 = import_subjectdatainfo_mc('/Users/mertozkan/Documents/Psyc161FinalProject/MotionCoherence/MC/data_inventory_mc.txt')\n",
    "dat_path = '/Users/mertozkan/Documents/Psyc161FinalProject/MotionCoherence/data'\n",
    "\n",
    "prev_dr = os.getcwd()\n",
    "os.chdir(dat_path)\n",
    "for n in range(len(sub_no)):\n",
    "    trl_no, dxn, coh, isOK, key, rt = combineconditions_mc(bhv_ptr[n], sq[n]-1, dat_path)\n",
    "    \n",
    "    check_script = len(trl_no)-(len(trl_rej_1[n])+len(trl_rej_2[n]))\n",
    "    pc_rej = 100*(len(trl_rej_1[n])+len(trl_rej_2[n]))/len(trl_no)\n",
    "    \n",
    "    dat = np.matrix([trl_no,dxn,coh,isOK,rt])\n",
    "    dat = np.delete(dat,trl_rej_1[n]-1,1)\n",
    "    dat = np.delete(dat,trl_rej_2[n]-1,1)\n",
    "    if check_script != dat.shape[1]:\n",
    "        print('The number of trials do not match! Subject Number: {}'.format(n+1))\n",
    "        \n",
    "    f_name = '{}_datbhv_trlmatchedweeg.csv'.format(sub_name[n])\n",
    "    dat = np.transpose(dat)\n",
    "    \n",
    "    np.savetxt(f_name,\n",
    "                 dat, delimiter = ', ',\n",
    "                 header = '''\n",
    "                 Behavioural Data Log:\n",
    "                     All trials matched to eeg trials\n",
    "                     Trial rejection according to the behavioural criteria is still needed\n",
    "                 Subject Initials: {}\n",
    "                 Percentage of Rejected Trials: %{:.2f}\n",
    "                 \n",
    "                 trl_no, dxn, coh, isOK, rt\n",
    "                 '''.format(sub_name[n],pc_rej),\n",
    "               fmt='%1.5e')\n",
    "os.chdir(prev_dr)"
   ]
  },
  {
   "cell_type": "code",
   "execution_count": 125,
   "metadata": {},
   "outputs": [],
   "source": []
  },
  {
   "cell_type": "code",
   "execution_count": null,
   "metadata": {},
   "outputs": [],
   "source": []
  }
 ],
 "metadata": {
  "kernelspec": {
   "display_name": "Python 3",
   "language": "python",
   "name": "python3"
  },
  "language_info": {
   "codemirror_mode": {
    "name": "ipython",
    "version": 3
   },
   "file_extension": ".py",
   "mimetype": "text/x-python",
   "name": "python",
   "nbconvert_exporter": "python",
   "pygments_lexer": "ipython3",
   "version": "3.6.8"
  }
 },
 "nbformat": 4,
 "nbformat_minor": 2
}
