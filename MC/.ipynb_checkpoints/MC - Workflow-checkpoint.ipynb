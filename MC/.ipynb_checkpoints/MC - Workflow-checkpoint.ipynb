{
 "cells": [
  {
   "cell_type": "markdown",
   "metadata": {},
   "source": [
    "# Motion Coherence Experiment Analysis Flow"
   ]
  },
  {
   "cell_type": "markdown",
   "metadata": {},
   "source": [
    "## Synchronising Psychophysical and EEG Trials"
   ]
  },
  {
   "cell_type": "markdown",
   "metadata": {},
   "source": [
    "1. Import subject data information\n",
    "2. Combine 3 condition files of each subject according to the session order\n",
    "3. Mark invalid key press:\n",
    "    * log files registered these as __key='space'__ or __'-'__, outputted here as __key=0__\n",
    "4. Discard rejected trials at Artefact Rejection 1 & 2\n",
    "5. Mark trials that are not valid according to Reaction Time criteria:\n",
    "    * AVG-2SD > RT > AVG + 2SD\n",
    "6. Write the new data file in .csv format and save it in the data folder:\n",
    "    * fname: **{*behavioural_pointer*}_subdatbhv.csv**\n",
    "7. Register following variables in a .csv file:\n",
    "    * *info_sxnstats.csv*\n",
    "    * sub_no, sub_name, bhv_ptr, eeg_ptr, qTrlRej, qTrlVld, qTrlVldKey, qTrlVldRT"
   ]
  },
  {
   "cell_type": "code",
   "execution_count": null,
   "metadata": {},
   "outputs": [],
   "source": [
    "import numpy as np\n",
    "import os\n",
    "\n",
    "import MC as mc\n",
    "\n",
    "sub_no, sub_name, sxn_sq, bhv_ptr, eeg_ptr, trl_rej_1, trl_rej_2 = mc.import_subjectdatainfo_mc('/Users/mertozkan/Documents/Psyc161FinalProject/MotionCoherence/MC/data_inventory_mc.txt')\n",
    "dat_path = '/Users/mertozkan/Documents/Psyc161FinalProject/MotionCoherence/data'\n",
    "\n",
    "prev_dr = os.getcwd()\n",
    "os.chdir(dat_path)\n",
    "\n",
    "f_info = open('info_sxnstats.csv','w')\n",
    "f_info.write('''# Session Information\n",
    "# Subject data is registered in \"{sub_name}_subdatabhv.csv\" files\n",
    "# sub_no, sub_name, bhv_ptr, eeg_ptr, qTrlRej, qTrl, qTrlVld, qTrlVldKey, qTrlVldRT\n",
    "''')\n",
    "for n in range(len(sub_no)):\n",
    "    trl_no, cond, dxn, coh, isOK, key, rt = mc.combineconditions_mc(bhv_ptr[n], sxn_sq[n]-1, dat_path)\n",
    "    \n",
    "    check_script = len(trl_no)-(len(trl_rej_1[n])+len(trl_rej_2[n]))\n",
    "    qTrl = len(trl_no)\n",
    "    qTrlRej = len(trl_rej_1[n])+len(trl_rej_2[n])\n",
    "    \n",
    "    # Mark validity \n",
    "    \n",
    "    vld_key = key != 0\n",
    "\n",
    "    dat = np.matrix([trl_no, cond, dxn, coh, key, isOK, rt, vld_key])\n",
    "    dat = np.delete(dat,trl_rej_1[n]-1,1)\n",
    "    dat = np.delete(dat,trl_rej_2[n]-1,1)\n",
    "    \n",
    "    vld_key_post_rej = dat[7].astype(bool)\n",
    "    rt_post_rej = dat[6]\n",
    "    rt_avg = np.mean(rt_post_rej[vld_key_post_rej])\n",
    "    rt_sd = np.std(rt_post_rej[vld_key_post_rej])\n",
    "    \n",
    "    # Implement reaction time criteria\n",
    "    vld_rt = np.logical_and((rt_post_rej <= (rt_avg + 2*rt_sd)),(rt_post_rej >= (rt_avg - 2*rt_sd)))\n",
    "    vld_rt = np.logical_and((rt_post_rej > .1), vld_rt)\n",
    "    \n",
    "    # Separate trials with valid reaction keys from trials with valid reaction times\n",
    "    vld_rt = np.logical_or(\n",
    "        np.logical_not(vld_key_post_rej),vld_rt\n",
    "    )\n",
    "\n",
    "    qTrlVldKey = np.sum(vld_key_post_rej)\n",
    "    qTrlVldRT = np.sum(vld_rt)\n",
    "    qTrlVld = np.sum(np.logical_and(vld_key_post_rej,vld_rt))\n",
    "    \n",
    "    dat  = np.concatenate(\n",
    "        (dat,vld_rt), axis=0\n",
    "    )\n",
    "    if check_script != dat.shape[1]:\n",
    "        print('The number of trials do not match! Subject Number: {}'.format(n+1))\n",
    "        \n",
    "    f_name = '{}_subdatbhv.csv'.format(sub_name[n])\n",
    "    dat = np.transpose(dat)\n",
    "    \n",
    "    np.savetxt(f_name,\n",
    "                 dat, delimiter = ', ',\n",
    "                 header = '''\n",
    "                 Behavioural Data Log:\n",
    "                 \n",
    "                 All trials match to the eeg trials.\n",
    "                 Valid trials are marked.\n",
    "                 \n",
    "                 Subject Initials: sub_name = {}\n",
    "                 Subject Number: sub_no = {}\n",
    "                 \n",
    "                 trl_no, sxn_sq, dxn, coh, key, isOK, rt, isVld_key, isVld_rt\n",
    "                 '''.format(sub_name[n], sub_no[n]\n",
    "                           ), fmt='%1.5e')\n",
    "    f_info.write('''{}, {}, {}, {}, {}, {}, {}, {}, {}\\n'''.format(\n",
    "        sub_no[n], sub_name[n], bhv_ptr[n], eeg_ptr[n], qTrlRej, qTrl, qTrlVld, qTrlVldKey, qTrlVldRT)\n",
    "                )\n",
    "f_info.close()\n",
    "os.chdir(prev_dr)\n",
    "\n"
   ]
  },
  {
   "cell_type": "markdown",
   "metadata": {},
   "source": [
    "## Behavioural Data Analysis"
   ]
  },
  {
   "cell_type": "markdown",
   "metadata": {},
   "source": [
    "### Data Log for Bayesian Curve Fitting\n",
    "1. __Read each '{}_subdatbhv.csv' file__\n",
    "2. __Separate each condition 3x6 (Motion Type x Coherence Level)__\n",
    "3. __Compute number of correct responses for each condition__\n",
    "4. __Write in a .csv file in the following format:__ \n",
    "    * sub_no, cond_no, coh_lvl, qOK, qTrl\n",
    "    * *datbhv_pfit.csv*\n",
    "    \n",
    "5. __Register the index number of valid and correct trials in another .csv file:__\n",
    "    * sub_no, trl_vld, trl_ok\n",
    "    * *info_trials.csv*"
   ]
  },
  {
   "cell_type": "code",
   "execution_count": 1,
   "metadata": {},
   "outputs": [],
   "source": [
    "import os\n",
    "import MC as mc\n",
    "import numpy as np\n",
    "\n",
    "dat_path = '/Users/mertozkan/Documents/Psyc161FinalProject/MotionCoherence/data'\n",
    "prev_dr = os.getcwd()\n",
    "os.chdir(dat_path)\n",
    "\n",
    "\n",
    "\n",
    "info = mc.importfromstandardcsv_moz('info_sxnstats.csv')\n",
    "\n",
    "f_dat = open('datbhv_pfit.csv','w')\n",
    "f_dat.write('''# Data for Psychophysical Curve Fitting\n",
    "# sub_no, mot, coh, qOK, qTrl\n",
    "''')\n",
    "\n",
    "f_info = open('info_trials.csv','w')\n",
    "f_info.write('''# Information for Correct and Valid Trial Indices per Each Subject\n",
    "# to be used while matching eeg trials\n",
    "# sub_no, trl_vld, trl_ok\n",
    "''')\n",
    "\n",
    "for sub in info:\n",
    "    sub_no = sub[0]\n",
    "    sub_ptr = sub[1]\n",
    "    dat =  mc.importfromstandardcsv_moz('{}_subdatbhv.csv'.format(sub_ptr), whType='float')\n",
    "    trl_no, mot, dxn, coh, key, isOK, rt, isVld_key, isVld_rt = mc.array2tupleofvectors(dat)\n",
    "    \n",
    "    isVld = np.logical_and(isVld_key, isVld_rt)\n",
    "    \n",
    "    trl_ok = np.where(isOK)[0]\n",
    "    trl_vld = np.where(isVld)[0]\n",
    "    f_info.write('{}, {}, {}\\n'.format(sub_no, trl_vld, trl_ok))\n",
    "    for whMot in np.unique(mot): # 0 1 2: Tr Ra Ro\n",
    "        for whCoh in np.unique(coh):\n",
    "            curr_cond = np.logical_and(\n",
    "                np.logical_and(\n",
    "                    np.equal(mot,whMot), np.equal(coh,whCoh)\n",
    "                ), isVld\n",
    "            )\n",
    "            \n",
    "            qTrl = np.sum(curr_cond)\n",
    "            qOK = np.sum(isOK[curr_cond])\n",
    "            \n",
    "            \n",
    "            f_dat.write('{}, {}, {}, {}, {}\\n'.format(sub_no, whMot, whCoh, qOK, qTrl))\n",
    "\n",
    "f_dat.close()\n",
    "f_info.close()"
   ]
  },
  {
   "cell_type": "markdown",
   "metadata": {},
   "source": [
    "### Curve Fitting"
   ]
  },
  {
   "cell_type": "code",
   "execution_count": null,
   "metadata": {},
   "outputs": [],
   "source": []
  },
  {
   "cell_type": "code",
   "execution_count": null,
   "metadata": {},
   "outputs": [],
   "source": []
  }
 ],
 "metadata": {
  "kernelspec": {
   "display_name": "Python 3",
   "language": "python",
   "name": "python3"
  },
  "language_info": {
   "codemirror_mode": {
    "name": "ipython",
    "version": 3
   },
   "file_extension": ".py",
   "mimetype": "text/x-python",
   "name": "python",
   "nbconvert_exporter": "python",
   "pygments_lexer": "ipython3",
   "version": "3.7.2"
  }
 },
 "nbformat": 4,
 "nbformat_minor": 2
}
