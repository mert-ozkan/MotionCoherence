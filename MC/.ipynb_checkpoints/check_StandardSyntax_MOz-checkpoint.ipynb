{
 "cells": [
  {
   "cell_type": "markdown",
   "metadata": {},
   "source": [
    "# Standard Syntax to Name Variables\n",
    "\n",
    "## Main Objective:\n",
    "Write a function that can suggest you to change variable names in your code like flake8. The variable names and the rules for how to use this syntax are given in 'VariableNameGlossary.txt' file."
   ]
  },
  {
   "cell_type": "markdown",
   "metadata": {},
   "source": [
    "## Create dictionaries for variable names, abbreviations, and types:\n",
    "* Import text from 'VariableNameGlossary.txt'\n",
    "* Take in lines starting with '* '\n",
    "* Each column is separated with a ', '\n",
    "    * Each line is formatted as follows:\n",
    "        * var_abv, var_name/alt_var_name, type, cont_type\n",
    "        * var_abv: all lower case, no special characters ('/' or '_')\n",
    "        * abv_type: all lower case, type of the abbreviation\n",
    "        * var_name: all lower case, '_' binds words, '/' is a separator to separate multiple keys\n",
    "        * cont_type: optional, if exists any variable using the name should be in the indicated type e.g. boolean\n",
    "* Create 3 dictionaries:\n",
    "    * abv = {var_abv: var_name/alt_var_name}\n",
    "    * desc = {var_name: var_abv, alt_var_name: var_abv}\n",
    "    * cont_type = {var_abv: cont_type}"
   ]
  },
  {
   "cell_type": "code",
   "execution_count": 78,
   "metadata": {},
   "outputs": [
    {
     "name": "stdout",
     "output_type": "stream",
     "text": [
      "{'prefix': 'pf', 'name': 'nm', 'variable': 'var', 'alternative': 'alt', 'option': 'alt', 'answer': 'ans', 'output': 'op', 'abbreviation': 'abv', 'mert_ozkan': 'moz', 'motion_coherence': 'mc', 'file': 'f', 'data': 'dat', 'line': 'l', 'index': 'idx', 'pointer': 'ptr', 'trial': 'trl', 'number_ordinal': 'no', 'rank': 'no', 'number_quantitative': 'num', 'direction': 'dxn', 'coherence': 'coh', 'correct': 'ok', 'question_prefix': 'is', 'content': 'cont', 'reaction_time': 'rt', 'time': 't', 'string': 'st', 'integer': 'i', 'sentence': 'stc', 'word': 'wrd', 'inventory': 'inv', 'condition': 'cond', 'order': 'sq', 'sequence': 'sq', 'session': 'sxn', 'rejected': 'rej', 'subject': 'sub', 'participant': 'sub', 'with': 'w', 'in': 'in', 'inside': 'in', 'per': 'per', 'for': 'per', 'from': 'de', 'of': 'de', 'which': 'wh', 'what': 'wh', 'before': 'pre', 'after': 'post', 'previous': 'prev', 'next': 'nxt', 'percent': 'pc', 'percentage': 'pc', 'directory': 'dr', 'array': 'arr', 'keyword': 'kw', 'quantity': 'q', 'number': 'q', 'average': 'avg', 'mean': 'avg', 'std': 'sd', 'standard deviation': 'sd', 'reaction': 'rxn', 'response': 'rxn', 'level': 'lvl', 'special': 'spcl', 'list': 'lst', 'element': 'el', 'character': 'char', 'description': 'desc', 'type': 'tip'}\n"
     ]
    }
   ],
   "source": [
    "def variablenameglossary_mc(path, f_name = 'VariableNameGlossary_MOz.txt'):\n",
    "    f = open(f_name, 'r')\n",
    "    l = f.readlines()\n",
    "\n",
    "    abv = dict()\n",
    "    desc = dict()\n",
    "    tip = dict()\n",
    "    cont_type = dict()\n",
    "    for whL in l:\n",
    "        if '*' in whL:\n",
    "            lst = whL.split(', ')\n",
    "            for idx in range(len(lst)):\n",
    "                # Remove special characters\n",
    "                spcl_char = ['* ','\\n']\n",
    "                for whSpclChar in spcl_char:\n",
    "                    if whSpclChar in lst[idx]:\n",
    "                        lst[idx] = lst[idx].replace(whSpclChar,'')\n",
    "\n",
    "                # Check if there are any upper case characters in the first three variables\n",
    "                if idx <= 2:\n",
    "                    for whLett in list(lst[idx]):\n",
    "                        assert whLett.isupper() == False, '''\n",
    "                        Upper case letters in the MOzStandardSyntax Glossary are not permitted\n",
    "                        There is an upper case letter in line: {}\n",
    "                        Make necessary corrections in '{}'\n",
    "                        '''.format(whL,f_name)\n",
    "\n",
    "            # Check if the abbreviation is registered more than once\n",
    "            assert lst[0] not in abv.keys(), '''\n",
    "            There are multiple entries for the same abbreviation.\n",
    "                '{}: {}'\n",
    "                '{}: {}'\n",
    "            Make necessary corrections in '{}'\n",
    "            '''.format(lst[0],lst[1],lst[0],abv[lst[0]],f_name)\n",
    "\n",
    "            abv[lst[0]] = lst[1]\n",
    "            tip[lst[0]] = lst[2]\n",
    "            if idx == 3:\n",
    "                cont_type[lst[0]] = lst[3]\n",
    "\n",
    "            # Check if the description is registered more than once\n",
    "            for whDesc in lst[1].split('/'):\n",
    "                assert whDesc not in desc.keys(), '''\n",
    "                There are multiple entries for the same description.\n",
    "                    '{}: {}'\n",
    "                    '{}: {}'\n",
    "                Make necessary corrections in '{}'\n",
    "                '''.format(whDesc,lst[0],whDesc,desc[whDesc],f_name)\n",
    "                desc[whDesc] = lst[0]\n",
    "    return abv, desc, tip, cont_type\n",
    "            "
   ]
  },
  {
   "cell_type": "code",
   "execution_count": 69,
   "metadata": {},
   "outputs": [
    {
     "data": {
      "text/plain": [
       "['lol', 'la']"
      ]
     },
     "execution_count": 69,
     "metadata": {},
     "output_type": "execute_result"
    }
   ],
   "source": []
  },
  {
   "cell_type": "code",
   "execution_count": null,
   "metadata": {},
   "outputs": [],
   "source": []
  }
 ],
 "metadata": {
  "kernelspec": {
   "display_name": "Python 3",
   "language": "python",
   "name": "python3"
  },
  "language_info": {
   "codemirror_mode": {
    "name": "ipython",
    "version": 3
   },
   "file_extension": ".py",
   "mimetype": "text/x-python",
   "name": "python",
   "nbconvert_exporter": "python",
   "pygments_lexer": "ipython3",
   "version": "3.7.2"
  }
 },
 "nbformat": 4,
 "nbformat_minor": 2
}
